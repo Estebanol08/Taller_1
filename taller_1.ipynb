{
  "nbformat": 4,
  "nbformat_minor": 0,
  "metadata": {
    "colab": {
      "provenance": [],
      "collapsed_sections": [
        "Zgxd_8GOUkB0",
        "i9Rm48BuU2xH",
        "apbSmSRGXu7Y",
        "Q2XRMmien-22",
        "HbczPK0Uotp9",
        "Hjob6bFfsq9F",
        "rJ_YoQlzySmp",
        "0W9S73Ug5D01",
        "8fQ0vHar-Z88",
        "C2TKMNwkGoVt",
        "LDRCAfjbJ53-",
        "twUsOqgEK0Xo",
        "SgtF0G5TOfbO",
        "u_EruqH5Q6B9",
        "97YGLx33TLUW",
        "1hipY8_Uaj48",
        "aJRqCjDkbSLU",
        "cFMTUg5Xg04v",
        "jyF0RrdfhsDT",
        "ScGLBdHEjBP9"
      ]
    },
    "kernelspec": {
      "name": "python3",
      "display_name": "Python 3"
    },
    "language_info": {
      "name": "python"
    }
  },
  "cells": [
    {
      "cell_type": "markdown",
      "source": [
        "# Taller1 - 2do corte"
      ],
      "metadata": {
        "id": "pIjHq1ofUble"
      }
    },
    {
      "cell_type": "markdown",
      "source": [
        "NOMBRES: Daniel Esteban Olmos Hernandez- \n",
        "Juan Rafael Ortiz Cruz - Juan Pablo Gonzalez"
      ],
      "metadata": {
        "id": "yCsF54BTUhr4"
      }
    },
    {
      "cell_type": "markdown",
      "source": [
        "## A.Crea un programa que tome una lista de números como entrada y devuelva la suma de todos los números en la lista"
      ],
      "metadata": {
        "id": "Zgxd_8GOUkB0"
      }
    },
    {
      "cell_type": "code",
      "execution_count": 1,
      "metadata": {
        "id": "NyMKJ2cZTEe5"
      },
      "outputs": [],
      "source": [
        "def numeros_sumados(x):\n",
        "    suma=0\n",
        "    for valor in x:\n",
        "        suma += valor\n",
        "    return suma\n"
      ]
    },
    {
      "cell_type": "code",
      "source": [
        "x= [1,2,3,10,50,99,152,633]\n",
        "numeros_sumados(x)\n",
        "\n",
        "\n"
      ],
      "metadata": {
        "colab": {
          "base_uri": "https://localhost:8080/"
        },
        "id": "Bmwgf9rITh4x",
        "outputId": "151bacd5-a379-4dee-cbc3-4927d80109fa"
      },
      "execution_count": null,
      "outputs": [
        {
          "output_type": "execute_result",
          "data": {
            "text/plain": [
              "950"
            ]
          },
          "metadata": {},
          "execution_count": 33
        }
      ]
    },
    {
      "cell_type": "markdown",
      "source": [
        "## B. Escribe un programa que tome dos listas y devuelva una nueva lista que contenga todos los elementos que son comunes a ambas listas."
      ],
      "metadata": {
        "id": "i9Rm48BuU2xH"
      }
    },
    {
      "cell_type": "code",
      "source": [
        "def numeros_comunes(x,y):\n",
        "    lista_de_numeros_comunes = []\n",
        "    for elem in x:\n",
        "        if elem in y:\n",
        "          lista_de_numeros_comunes.append(elem)\n",
        "    return lista_de_numeros_comunes\n",
        "      "
      ],
      "metadata": {
        "id": "A8VguwETU-MU"
      },
      "execution_count": null,
      "outputs": []
    },
    {
      "cell_type": "code",
      "source": [
        "x=[1,2,3,5,10,20,30,100,52,33,21,44,68]\n",
        "y=[1,2,10,30,100,25,66,58,99,130,38,44]\n",
        "\n",
        "numeros_comunes(x,y)"
      ],
      "metadata": {
        "colab": {
          "base_uri": "https://localhost:8080/"
        },
        "id": "fC5w2AdDWu8w",
        "outputId": "da408b04-ffc9-4e3d-f0df-2e9b602d126f"
      },
      "execution_count": null,
      "outputs": [
        {
          "output_type": "execute_result",
          "data": {
            "text/plain": [
              "[1, 2, 10, 30, 100, 44]"
            ]
          },
          "metadata": {},
          "execution_count": 10
        }
      ]
    },
    {
      "cell_type": "markdown",
      "source": [
        "##  C. Crea un programa que tome una lista de cadenas como entrada y devuelva la longitud de la cadena más larga en la lista.\n",
        "\n"
      ],
      "metadata": {
        "id": "apbSmSRGXu7Y"
      }
    },
    {
      "cell_type": "code",
      "source": [
        "def longitud_de_la_palabra_mas_larga(x):\n",
        "    longitud_mayor = 0\n",
        "    for elem in x:\n",
        "        longitud_palabra = len(elem)\n",
        "        if longitud_palabra > longitud_mayor:\n",
        "            longitud_mayor = longitud_palabra\n",
        "    return longitud_mayor\n"
      ],
      "metadata": {
        "id": "SBfJpvxqDF2b"
      },
      "execution_count": 14,
      "outputs": []
    },
    {
      "cell_type": "code",
      "source": [
        "longitud_de_la_palabra_mas_larga([\"Millonarios\",\"Santafe\", \"America\",\"Junior\"])"
      ],
      "metadata": {
        "colab": {
          "base_uri": "https://localhost:8080/"
        },
        "id": "v26Fr6szD_We",
        "outputId": "3dec1471-d318-41db-ed43-b88ad460921f"
      },
      "execution_count": 19,
      "outputs": [
        {
          "output_type": "execute_result",
          "data": {
            "text/plain": [
              "11"
            ]
          },
          "metadata": {},
          "execution_count": 19
        }
      ]
    },
    {
      "cell_type": "markdown",
      "source": [
        "##D.Escribe un programa que tome una lista de números como entrada y devuelva una nueva lista que contenga solo los números pares de la lista original."
      ],
      "metadata": {
        "id": "Q2XRMmien-22"
      }
    },
    {
      "cell_type": "code",
      "source": [
        "def par (x):\n",
        "  lista_pares= []\n",
        "  for elem in x:\n",
        "    if elem % 2 ==0:\n",
        "      lista_pares.append(elem)\n",
        "  return lista_pares"
      ],
      "metadata": {
        "id": "gCvXq06Lnjfl"
      },
      "execution_count": null,
      "outputs": []
    },
    {
      "cell_type": "code",
      "source": [
        "par([1,2,3,4,5,6,7,8,9,10,11,12,13,15,20,23,25,26,33,38,44,55,133])"
      ],
      "metadata": {
        "colab": {
          "base_uri": "https://localhost:8080/"
        },
        "id": "zkPedth0oU1m",
        "outputId": "bf99b389-9c1e-4898-ab63-744349dceed0"
      },
      "execution_count": null,
      "outputs": [
        {
          "output_type": "execute_result",
          "data": {
            "text/plain": [
              "[2, 4, 6, 8, 10, 12, 20, 26, 38, 44]"
            ]
          },
          "metadata": {},
          "execution_count": 27
        }
      ]
    },
    {
      "cell_type": "markdown",
      "source": [
        "## E.Crea un programa que tome una lista de cadenas como entrada y devuelva una nueva lista que contenga solo las cadenas que comienzan con la letra \"a\"."
      ],
      "metadata": {
        "id": "HbczPK0Uotp9"
      }
    },
    {
      "cell_type": "code",
      "source": [
        "def palabrascon_a(x):\n",
        "    lista = []\n",
        "    for elem in x:\n",
        "        if len(elem) > 0 and elem[0] == 'a':\n",
        "            lista.append(elem)\n",
        "    return lista\n"
      ],
      "metadata": {
        "id": "YjAkbpKrRPYC"
      },
      "execution_count": 79,
      "outputs": []
    },
    {
      "cell_type": "code",
      "source": [
        "palabrascon_a([\"pera\",\"arbol\",\"arroz\",\"celular\",\"aguila\"])"
      ],
      "metadata": {
        "colab": {
          "base_uri": "https://localhost:8080/"
        },
        "id": "7kWo6Za6SpHK",
        "outputId": "76602fbc-0b1f-4d01-fb03-4813441d4a5f"
      },
      "execution_count": 80,
      "outputs": [
        {
          "output_type": "execute_result",
          "data": {
            "text/plain": [
              "['arbol', 'arroz', 'aguila']"
            ]
          },
          "metadata": {},
          "execution_count": 80
        }
      ]
    },
    {
      "cell_type": "markdown",
      "source": [
        "## F.Escribe un programa que tome un diccionario como entrada y devuelva el valor asociado con una clave dada."
      ],
      "metadata": {
        "id": "Hjob6bFfsq9F"
      }
    },
    {
      "cell_type": "code",
      "source": [
        "def clave_dada(x,y):\n",
        "    if y in x:\n",
        "       return x[y]\n",
        "    else:\n",
        "       return \" Clave no encontrada\"\n",
        "\n",
        "      "
      ],
      "metadata": {
        "id": "1Vbb5yVwssE6"
      },
      "execution_count": null,
      "outputs": []
    },
    {
      "cell_type": "code",
      "source": [
        "diccionario={\"nombre\":\"Millonarios\", \"año de fundacion\":1946, \"estadio\":\" El Campin\",\"presidente\": \"Enrique Camacho\"}\n",
        "clave_dada(diccionario, \"presidente\")\n"
      ],
      "metadata": {
        "colab": {
          "base_uri": "https://localhost:8080/",
          "height": 35
        },
        "id": "_tHLvvZDtZu4",
        "outputId": "710656a5-2f54-4ff8-e414-c02f9c677133"
      },
      "execution_count": null,
      "outputs": [
        {
          "output_type": "execute_result",
          "data": {
            "text/plain": [
              "'Enrique Camacho'"
            ],
            "application/vnd.google.colaboratory.intrinsic+json": {
              "type": "string"
            }
          },
          "metadata": {},
          "execution_count": 84
        }
      ]
    },
    {
      "cell_type": "markdown",
      "source": [
        "##G. Crea un programa que tome una lista de diccionarios como entrada y devuelva una nueva lista que contenga solo los diccionarios que tienen una cierta clave."
      ],
      "metadata": {
        "id": "rJ_YoQlzySmp"
      }
    },
    {
      "cell_type": "code",
      "source": [
        "def diccionarios_con_clave(x, y):\n",
        "    dic_clave = []\n",
        "    for elem in x:\n",
        "        if y in elem:\n",
        "            dic_clave.append(elem)\n",
        "    return dic_clave\n",
        "\n"
      ],
      "metadata": {
        "id": "JvmTrrT2Gfic"
      },
      "execution_count": 44,
      "outputs": []
    },
    {
      "cell_type": "code",
      "source": [
        "lista =[ {\"anime\":\"Naruto\", \"episodios\": 720, \"año\": 1999, \"creador\": \" Masashi Kishimoto\"},\n",
        "{\"anime\":\"Bleach\", \"episodios\":366, \"año\": 2004, \"creador\": \" TiteKubo\"},\n",
        "{\"anime\":\"One piece\", \"episodios\":1057, \"año\": 1994, \"creador\": \"Eiichiro Oda\"},\n",
        "{\"anime\":\"Kimetsu no Yaiba\", \"episodios\":46, \"año\":2016}]\n",
        "\n",
        "diccionarios_con_clave(lista,\"creador\")"
      ],
      "metadata": {
        "colab": {
          "base_uri": "https://localhost:8080/"
        },
        "id": "WCmwrShXIVyf",
        "outputId": "c3cb9449-4f2f-4654-d4de-dc6794e663cb"
      },
      "execution_count": 48,
      "outputs": [
        {
          "output_type": "execute_result",
          "data": {
            "text/plain": [
              "[{'anime': 'Naruto',\n",
              "  'episodios': 720,\n",
              "  'año': 1999,\n",
              "  'creador': ' Masashi Kishimoto'},\n",
              " {'anime': 'Bleach', 'episodios': 366, 'año': 2004, 'creador': ' TiteKubo'},\n",
              " {'anime': 'One piece',\n",
              "  'episodios': 1057,\n",
              "  'año': 1994,\n",
              "  'creador': 'Eiichiro Oda'}]"
            ]
          },
          "metadata": {},
          "execution_count": 48
        }
      ]
    },
    {
      "cell_type": "markdown",
      "source": [
        "## H.Escribe un programa que tome un diccionario como entrada y devuelva un nuevo diccionario con las claves y los valores intercambiados."
      ],
      "metadata": {
        "id": "0W9S73Ug5D01"
      }
    },
    {
      "cell_type": "code",
      "source": [
        "def dict_con_interc(x):\n",
        "    dict_nuevo = {}\n",
        "    for key in x:\n",
        "        dict_nuevo[x[key]] = key\n",
        "    return dict_nuevo\n"
      ],
      "metadata": {
        "id": "2chbBCnTP43O"
      },
      "execution_count": 71,
      "outputs": []
    },
    {
      "cell_type": "code",
      "source": [
        "dict_con_interc({\"nombre\":\"Chelsea\", \"año de fundacion\":1905, \"estadio\":\" Stamford Bridge\",\"presidente\": \"Tood Boehly\"})"
      ],
      "metadata": {
        "colab": {
          "base_uri": "https://localhost:8080/"
        },
        "id": "fPrGDO_DQxdY",
        "outputId": "9d2112a3-9fd9-4ab6-f9ca-82597c485ea5"
      },
      "execution_count": 72,
      "outputs": [
        {
          "output_type": "execute_result",
          "data": {
            "text/plain": [
              "{'Chelsea': 'nombre',\n",
              " 1905: 'año de fundacion',\n",
              " ' Stamford Bridge': 'estadio',\n",
              " 'Tood Boehly': 'presidente'}"
            ]
          },
          "metadata": {},
          "execution_count": 72
        }
      ]
    },
    {
      "cell_type": "markdown",
      "source": [
        "## I. Crea un programa que tome dos diccionarios como entrada y devuelva un nuevo diccionario que contenga solo los pares clave-valor que son comunes a ambos diccionarios."
      ],
      "metadata": {
        "id": "8fQ0vHar-Z88"
      }
    },
    {
      "cell_type": "code",
      "source": [
        "def clave_valor_comunes(x,y):\n",
        "    iguales={}\n",
        "    for elem in x:\n",
        "        if elem in y and x[elem]== y[elem]:\n",
        "           iguales[elem] = x[elem]\n",
        "    return iguales       "
      ],
      "metadata": {
        "id": "zDbIZm0A-gH1"
      },
      "execution_count": null,
      "outputs": []
    },
    {
      "cell_type": "code",
      "source": [
        "x={ \"Millonarios\": \"Azul\",\"America\":\" Rojo\",\" Nacional\": \" Verde\", \"Bucaramanga\":\"Amarillo\"}\n",
        "y={ \"Millonarios\": \"Azul\",\"Santa fe\":\" Rojo\",\" Cali\": \" Verde\", \"Bucaramanga\":\"Amarillo\"}\n",
        "\n",
        "clave_valor_comunes(x,y)"
      ],
      "metadata": {
        "colab": {
          "base_uri": "https://localhost:8080/"
        },
        "id": "l04T1ogqBpp0",
        "outputId": "c37f9be4-6cf5-4a7c-d209-d4e67157f1ec"
      },
      "execution_count": null,
      "outputs": [
        {
          "output_type": "execute_result",
          "data": {
            "text/plain": [
              "{'Millonarios': 'Azul', 'Bucaramanga': 'Amarillo'}"
            ]
          },
          "metadata": {},
          "execution_count": 152
        }
      ]
    },
    {
      "cell_type": "markdown",
      "source": [
        "## J Escribe un programa que tome un diccionario como entrada y devuelva un nuevo diccionario con las claves ordenadas alfabéticamente"
      ],
      "metadata": {
        "id": "C2TKMNwkGoVt"
      }
    },
    {
      "cell_type": "code",
      "source": [
        "def claves_en_orden(x):\n",
        "    dic_claves_en_orden = list(x.keys())\n",
        "    for i in range(len(dic_claves_en_orden)):\n",
        "        for j in range(i+1, len(dic_claves_en_orden)):\n",
        "            if dic_claves_en_orden[i] > dic_claves_en_orden[j]:\n",
        "                dic_claves_en_orden[i], dic_claves_en_orden[j] = dic_claves_en_orden[j], dic_claves_en_orden[i]\n",
        "    dic = {}\n",
        "    for elem in dic_claves_en_orden:\n",
        "        dic[elem] = x[elem]\n",
        "    return dic\n"
      ],
      "metadata": {
        "id": "HKZuNOckGr4s"
      },
      "execution_count": 59,
      "outputs": []
    },
    {
      "cell_type": "code",
      "source": [
        "claves_en_orden({\"Marca\": \"Toyota\", \"Modelo\": \"Corolla Cross\", \"Año\": 2023})"
      ],
      "metadata": {
        "colab": {
          "base_uri": "https://localhost:8080/"
        },
        "id": "ipD8eOIROJaS",
        "outputId": "6b8481a2-098b-4264-c32c-ad4c30078eda"
      },
      "execution_count": 63,
      "outputs": [
        {
          "output_type": "execute_result",
          "data": {
            "text/plain": [
              "{'Año': 2023, 'Marca': 'Toyota', 'Modelo': 'Corolla Cross'}"
            ]
          },
          "metadata": {},
          "execution_count": 63
        }
      ]
    },
    {
      "cell_type": "markdown",
      "source": [
        "## K.Escribe una función que tome dos números como entrada y devuelva su suma."
      ],
      "metadata": {
        "id": "LDRCAfjbJ53-"
      }
    },
    {
      "cell_type": "code",
      "source": [
        "def suma(x, y):\n",
        "    return x + y\n"
      ],
      "metadata": {
        "id": "5XOUO0nvJ5H7"
      },
      "execution_count": 4,
      "outputs": []
    },
    {
      "cell_type": "code",
      "source": [
        "suma(5,8)"
      ],
      "metadata": {
        "colab": {
          "base_uri": "https://localhost:8080/"
        },
        "id": "RolrxXmuKF7V",
        "outputId": "68a5e9f5-797d-4328-9b87-6f0dc00005b9"
      },
      "execution_count": 6,
      "outputs": [
        {
          "output_type": "execute_result",
          "data": {
            "text/plain": [
              "13"
            ]
          },
          "metadata": {},
          "execution_count": 6
        }
      ]
    },
    {
      "cell_type": "markdown",
      "source": [
        "##L.Crea una función que tome una lista de cadenas como entrada y devuelva una nueva lista que contenga solo las cadenas que son más largas que una longitud dada"
      ],
      "metadata": {
        "id": "twUsOqgEK0Xo"
      }
    },
    {
      "cell_type": "code",
      "source": [
        "def palabras_mas_largas(x, y):\n",
        "    palabras = []\n",
        "    for elem in x:\n",
        "        if len(elem) > y:\n",
        "            palabras.append(elem)\n",
        "    return palabras"
      ],
      "metadata": {
        "id": "bxcANR5hLAFC"
      },
      "execution_count": 9,
      "outputs": []
    },
    {
      "cell_type": "code",
      "source": [
        "palabras = ['Cristiano Ronaldo', 'Messi', 'Falcao', 'Neymar', 'James', 'Modric', \" Haaland\",\"Iniesta\",\"Kross\"]\n",
        "\n",
        "palabras_mas_largas(palabras,6)"
      ],
      "metadata": {
        "colab": {
          "base_uri": "https://localhost:8080/"
        },
        "id": "2PaN60r3NUR3",
        "outputId": "6a265422-140a-4d44-c193-c5ee3055375e"
      },
      "execution_count": 13,
      "outputs": [
        {
          "output_type": "execute_result",
          "data": {
            "text/plain": [
              "['Cristiano Ronaldo', ' Haaland', 'Iniesta']"
            ]
          },
          "metadata": {},
          "execution_count": 13
        }
      ]
    },
    {
      "cell_type": "markdown",
      "source": [
        "##M. Escribe una función que tome una cadena como entrada y devuelva True si la cadena es un palíndromo, False en caso contrario."
      ],
      "metadata": {
        "id": "SgtF0G5TOfbO"
      }
    },
    {
      "cell_type": "code",
      "source": [
        "def palindromo(x):\n",
        "   x = x.replace(\" \", \"\").lower()\n",
        "   if x == x[::-1]:\n",
        "        return True\n",
        "   else:\n",
        "        return False\n",
        "  \n",
        "    \n",
        "    "
      ],
      "metadata": {
        "id": "wT7vhlkCO2YU"
      },
      "execution_count": 16,
      "outputs": []
    },
    {
      "cell_type": "code",
      "source": [
        "palindromo(\"yo hago yoga hoy\")"
      ],
      "metadata": {
        "colab": {
          "base_uri": "https://localhost:8080/"
        },
        "id": "oBjS6-EgQf1j",
        "outputId": "d83f3b86-0d2e-4c29-bd4e-763d0855b3fd"
      },
      "execution_count": 20,
      "outputs": [
        {
          "output_type": "execute_result",
          "data": {
            "text/plain": [
              "True"
            ]
          },
          "metadata": {},
          "execution_count": 20
        }
      ]
    },
    {
      "cell_type": "markdown",
      "source": [
        "## N. Crea una función que tome una lista de números como entrada y devuelva el promedio de todos los números en la lista."
      ],
      "metadata": {
        "id": "u_EruqH5Q6B9"
      }
    },
    {
      "cell_type": "code",
      "source": [
        "def prom(x):\n",
        "    suma = 0\n",
        "    for elem in x:\n",
        "        suma += elem\n",
        "    return suma / len(x)\n"
      ],
      "metadata": {
        "id": "kC3sf1i8Q_jm"
      },
      "execution_count": 24,
      "outputs": []
    },
    {
      "cell_type": "code",
      "source": [
        "prom ([5,10,15,20,25,30,35,40,45,50])"
      ],
      "metadata": {
        "colab": {
          "base_uri": "https://localhost:8080/"
        },
        "id": "ovUP792aRoLe",
        "outputId": "7c712bc8-3538-4da7-eb1f-f5ba1d5318f9"
      },
      "execution_count": 28,
      "outputs": [
        {
          "output_type": "execute_result",
          "data": {
            "text/plain": [
              "27.5"
            ]
          },
          "metadata": {},
          "execution_count": 28
        }
      ]
    },
    {
      "cell_type": "markdown",
      "source": [
        "##O.Escribe una función que tome un diccionario como entrada y devuelva una lista de todas las claves en el diccionario."
      ],
      "metadata": {
        "id": "97YGLx33TLUW"
      }
    },
    {
      "cell_type": "code",
      "source": [
        "def Lista_claves(x):\n",
        "    return list(x.keys())"
      ],
      "metadata": {
        "id": "m8hGbt-BTREv"
      },
      "execution_count": 29,
      "outputs": []
    },
    {
      "cell_type": "code",
      "source": [
        "Lista_claves({\"nombre\": \"Lionel\", \"apellido\": \"Messi\", \"edad\": 35, \"ciudad\": \"Rosario\", \"Equipo actual\" : \"Paris Saint-German\"})\n",
        "\n"
      ],
      "metadata": {
        "colab": {
          "base_uri": "https://localhost:8080/"
        },
        "id": "GpwCpaIsZzSZ",
        "outputId": "42de2daa-07d1-4e5c-8a4a-38c6443262d6"
      },
      "execution_count": 32,
      "outputs": [
        {
          "output_type": "execute_result",
          "data": {
            "text/plain": [
              "['nombre', 'apellido', 'edad', 'ciudad', 'Equipo actual']"
            ]
          },
          "metadata": {},
          "execution_count": 32
        }
      ]
    },
    {
      "cell_type": "markdown",
      "source": [
        "##P. Escribe un programa que tome una lista de números como entrada y devuelva el valor máximo en la lista.\n"
      ],
      "metadata": {
        "id": "1hipY8_Uaj48"
      }
    },
    {
      "cell_type": "code",
      "source": [
        "def valor_maximo(x):\n",
        "    maximo = x[0]\n",
        "    for elem in x:\n",
        "        if elem > maximo:\n",
        "            maximo = elem\n",
        "    return maximo"
      ],
      "metadata": {
        "id": "iajAQ5l0arBE"
      },
      "execution_count": 33,
      "outputs": []
    },
    {
      "cell_type": "code",
      "source": [
        "valor_maximo([1,2,3,5,8,9,2,6,54,68,22,11])"
      ],
      "metadata": {
        "colab": {
          "base_uri": "https://localhost:8080/"
        },
        "id": "f6PpUjOnbBc1",
        "outputId": "c2b65a1d-9065-4281-fa3d-041257bf15d2"
      },
      "execution_count": 35,
      "outputs": [
        {
          "output_type": "execute_result",
          "data": {
            "text/plain": [
              "68"
            ]
          },
          "metadata": {},
          "execution_count": 35
        }
      ]
    },
    {
      "cell_type": "markdown",
      "source": [
        "##Q. Crea un programa que tome una cadena como entrada y devuelva una nueva cadena que contenga solo las vocales en la cadena original."
      ],
      "metadata": {
        "id": "aJRqCjDkbSLU"
      }
    },
    {
      "cell_type": "code",
      "source": [
        "def solo_vocales(x):\n",
        "    voc = \"AEIOUaeiou\"\n",
        "    cadenanueva= \"\"\n",
        "    for elem in x:\n",
        "        if elem in voc:\n",
        "            cadenanueva += elem\n",
        "    return cadenanueva\n"
      ],
      "metadata": {
        "id": "D5hcFCdLbX8v"
      },
      "execution_count": 43,
      "outputs": []
    },
    {
      "cell_type": "code",
      "source": [
        "solo_vocales(\"Millonarios\")"
      ],
      "metadata": {
        "colab": {
          "base_uri": "https://localhost:8080/",
          "height": 35
        },
        "id": "3RrTzm3_d-gx",
        "outputId": "c0c2af78-0e42-4457-b0d2-abb40417ed94"
      },
      "execution_count": 44,
      "outputs": [
        {
          "output_type": "execute_result",
          "data": {
            "text/plain": [
              "'ioaio'"
            ],
            "application/vnd.google.colaboratory.intrinsic+json": {
              "type": "string"
            }
          },
          "metadata": {},
          "execution_count": 44
        }
      ]
    },
    {
      "cell_type": "markdown",
      "source": [
        "##R. Escribe un programa que tome una lista de números como entrada y devuelva una nueva lista que contenga los valores al cuadrado de cada número en la lista original."
      ],
      "metadata": {
        "id": "cFMTUg5Xg04v"
      }
    },
    {
      "cell_type": "code",
      "source": [
        "def cuadrados(x):\n",
        "    numeros = []\n",
        "    for elem in x:\n",
        "        numeros.append(elem ** 2)\n",
        "    return numeros\n"
      ],
      "metadata": {
        "id": "bNd1nnvVg4rF"
      },
      "execution_count": 45,
      "outputs": []
    },
    {
      "cell_type": "code",
      "source": [
        "cuadrados([1,2,3,4,5,6,7,8,9,10,100,150,255,339])"
      ],
      "metadata": {
        "colab": {
          "base_uri": "https://localhost:8080/"
        },
        "id": "yebvH62lhiA4",
        "outputId": "343d13ac-9bb3-496a-d5d4-d750c233b04c"
      },
      "execution_count": 46,
      "outputs": [
        {
          "output_type": "execute_result",
          "data": {
            "text/plain": [
              "[1, 4, 9, 16, 25, 36, 49, 64, 81, 100, 10000, 22500, 65025, 114921]"
            ]
          },
          "metadata": {},
          "execution_count": 46
        }
      ]
    },
    {
      "cell_type": "markdown",
      "source": [
        "## S. Crea un programa que tome una cadena como entrada y devuelva una nueva cadena con los caracteres en orden inverso."
      ],
      "metadata": {
        "id": "jyF0RrdfhsDT"
      }
    },
    {
      "cell_type": "code",
      "source": [
        "def palabra_invertida(x):\n",
        "    nuevacadena = \"\"\n",
        "    for i in range(len(x)-1, -1, -1):\n",
        "        nuevacadena += x[i]\n",
        "    return nuevacadena\n"
      ],
      "metadata": {
        "id": "q8LRjUevhwkR"
      },
      "execution_count": 48,
      "outputs": []
    },
    {
      "cell_type": "code",
      "source": [
        "palabra_invertida(\"esternocleidomastoideo\")"
      ],
      "metadata": {
        "colab": {
          "base_uri": "https://localhost:8080/",
          "height": 35
        },
        "id": "gZQp2XCPiQPT",
        "outputId": "cc2558c1-3ed5-484b-a3de-31d5ce228347"
      },
      "execution_count": 57,
      "outputs": [
        {
          "output_type": "execute_result",
          "data": {
            "text/plain": [
              "'oediotsamodielconretse'"
            ],
            "application/vnd.google.colaboratory.intrinsic+json": {
              "type": "string"
            }
          },
          "metadata": {},
          "execution_count": 57
        }
      ]
    },
    {
      "cell_type": "markdown",
      "source": [
        "##T Escribe un programa que tome una lista de cadenas como entrada y devuelva una nueva lista que contenga la longitud de cada cadena en la lista original."
      ],
      "metadata": {
        "id": "ScGLBdHEjBP9"
      }
    },
    {
      "cell_type": "code",
      "source": [
        "def longitudes_palabras(x):\n",
        "    lista_palabras = []\n",
        "    for elem in x:\n",
        "        lista_palabras.append(len(elem))\n",
        "    return lista_palabras\n"
      ],
      "metadata": {
        "id": "tp28x1KhjAX9"
      },
      "execution_count": 58,
      "outputs": []
    },
    {
      "cell_type": "code",
      "source": [
        "longitudes_palabras([\"Apple\", \"Samsung\", \"Motorola\", \"Huawei\", \"xiaomi\"])"
      ],
      "metadata": {
        "colab": {
          "base_uri": "https://localhost:8080/"
        },
        "id": "C8tkvmookQJw",
        "outputId": "1f8aa479-d752-4147-c7d8-a481153ceae4"
      },
      "execution_count": 60,
      "outputs": [
        {
          "output_type": "execute_result",
          "data": {
            "text/plain": [
              "[5, 7, 8, 6, 6]"
            ]
          },
          "metadata": {},
          "execution_count": 60
        }
      ]
    }
  ]
}